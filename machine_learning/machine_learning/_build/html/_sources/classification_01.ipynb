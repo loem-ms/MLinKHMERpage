{
 "metadata": {
  "language_info": {
   "codemirror_mode": {
    "name": "ipython",
    "version": 3
   },
   "file_extension": ".py",
   "mimetype": "text/x-python",
   "name": "python",
   "nbconvert_exporter": "python",
   "pygments_lexer": "ipython3",
   "version": "3.8.5-final"
  },
  "orig_nbformat": 2,
  "kernelspec": {
   "name": "python3",
   "display_name": "Python 3",
   "language": "python"
  }
 },
 "nbformat": 4,
 "nbformat_minor": 2,
 "cells": [
  {
   "source": [
    "# ចំណាត់ថ្នាក់២ក្រុម (Binary Classification)"
   ],
   "cell_type": "markdown",
   "metadata": {}
  },
  {
   "source": [
    "ក្រៅពីការសិក្សាពីទំនាក់ទំនងរវាងអថេរពីរឬច្រើនតាមរយៈម៉ូឌែលតម្រែតម្រង់ ការបែងចែកទិន្នន័យដោយផ្នែកលើអថេរពន្យល់របស់វាជាក្រុមហៅថាចំណាត់ថ្នាក់ក្រុម(classification)។ តាមពិតចំណាត់ថ្នាក់ក្រុម ក៏អាចបង្ហាញបានជាទម្រង់ម៉ូឌែលតម្រែតម្រង់ផងដែរ ដោយគ្រាន់តែតម្លៃនៃអថេរគោលដៅមិនយកតម្លៃទូលាយលើសំណុំចំនួនពិតឡើយ ផ្ទុយទៅវិញគឺយកតម្លៃដាច់ដូចជា{0,1}ជាដើម។"
   ],
   "cell_type": "markdown",
   "metadata": {}
  },
  {
   "source": [
    "ក្នុងអត្ថបទនេះយើងនឹងណែនាំករណីដែលអថេរគោលដៅយកតម្លៃតែពីរប្រភេទដែលយើងកំណត់ហៅថាចំណាត់ថ្នាក់២ក្រុម(binary classification)។ ឧទាហរណ៍នៃការអនុវត្តចំណាត់ថ្នាក់២ក្រុមក្នុងជីវភាពមានដូចជា៖ ការកំណត់អត្តសញ្ញាណសារអេឡិចត្រូនិចរំខាន(spam or not) ការវិភាគជម្ងឺតាមរយៈរោគសញ្ញា(មានជម្ងឺឬគ្មាន) ការទស្សន៍ទាយលទ្ធផលបោះឆ្នោត(ជាប់ឬធ្លាក់)ជាដើម។\n",
    "\n",
    "ជាឧទាហរណ៍យើងនឹងលើកយកការកំណត់អត្តសញ្ញាណសារអេឡិចត្រូនិចរំខាន(spam or not)មកបង្ហាញដើម្បីស្វែងយល់បន្ថែមពីដំណោះស្រាយក្នុងបញ្ហាចំណាត់ថ្នាក់ក្រុមតាមរយៈ machine learning ។ រូបទី១បង្ហាញពីដំណើរការនៃការកំណត់សាររំខាន។\n",
    "\n",
    "![spam](/images/spam-exampl.png)\n"
   ],
   "cell_type": "markdown",
   "metadata": {}
  },
  {
   "source": [
    "ជាដំណោះស្រាយងាយបំផុតដែលអ្នកអាចប្រហែលជានឹងនឹកឃើញមុនគេគឺការកំណត់រកនូវពាក្យដែលច្រើនប្រើប្រាស់ក្នុងspam mail។ \n",
    "ជាឧទាហរណ៍យើងអាចកំណត់ដូចទម្រង់ខាងក្រោម។"
   ],
   "cell_type": "markdown",
   "metadata": {}
  },
  {
   "cell_type": "code",
   "execution_count": 3,
   "metadata": {},
   "outputs": [],
   "source": [
    "def checkSpam(text):\n",
    "    if text.find('search for friend') != -1:\n",
    "        return True\n",
    "    if text.find('check my attached file for more photos') != -1:\n",
    "        return True \n",
    "    if text.find('Hey honey') != -1:\n",
    "        return True\n",
    "    # and many conditions\n",
    "    # and many many conditions \n",
    "    # .....\n",
    "    return False"
   ]
  },
  {
   "cell_type": "code",
   "execution_count": 4,
   "metadata": {},
   "outputs": [
    {
     "output_type": "execute_result",
     "data": {
      "text/plain": [
       "True"
      ]
     },
     "metadata": {},
     "execution_count": 4
    }
   ],
   "source": [
    "checkSpam('I am Mariya. I search for friend. Check my profile here!')"
   ]
  },
  {
   "cell_type": "code",
   "execution_count": 6,
   "metadata": {},
   "outputs": [
    {
     "output_type": "execute_result",
     "data": {
      "text/plain": [
       "False"
      ]
     },
     "metadata": {},
     "execution_count": 6
    }
   ],
   "source": [
    "checkSpam('Please submit your abstract before 1st March')"
   ]
  },
  {
   "source": [
    "ដូចដែលអ្នកអាចកត់សម្គាល់បាន ការកំណត់លក្ខខណ្ឌបែបនេះទាមទារពេលវេលានិងកម្លាំងច្រើនក្នុងការកំណត់យកពាក្យដែលសមស្រប។​ម្យ៉ាងទៀតវាមិនមានភាពបត់បែនខ្ពស់នោះឡើយ។ ជាដំណោះស្រាយយើងនឹងណែនាំអំពីវិធីសាស្រ្តធ្វើចំណាត់ថ្នាក់ក្រុមដោយប្រើMachine Learning។ នៅទីនេះធាតុចូលគឺជាអត្ថបទសាររីឯលទ្ធផលគឺជាការសន្និដ្ឋានថាតើជាspam mailឬយ៉ាងណា។ "
   ],
   "cell_type": "markdown",
   "metadata": {}
  },
  {
   "source": [
    "## ចំណាត់ថ្នាក់២ក្រុមដោយម៉ូឌែលលីនេអ៊ែរ"
   ],
   "cell_type": "markdown",
   "metadata": {}
  },
  {
   "source": [
    "ម៉ូឌែលលីនេអ៊ែរនៃចំណាត់ថ្នាក់២ក្រុមគឺជាម៉ូឌែលដែលទស្សន៍ទាយប្រភេទនៃទិន្នន័យ\n",
    "$\\hat{y}\\in\\left\\{0,1\\right\\}$ដោយកំណត់តាមតម្លៃវិជ្ជមានឬអវិជ្ជមាននៃផលគុណស្កាលែរវាងធាតុចូល(input)$\\pmb{x}\\in\\mathbb{R}^d $ និងប៉ារ៉ាម៉ែត្រម៉ូឌែល$\\pmb{w}\\in\\mathbb{R}^d $។\n",
    "\n",
    "$$\n",
    "\\hat{y}=\\left\\{\\begin{matrix}\n",
    "1 & \\pmb{x}^{\\top}\\pmb{w}>0\\\\ \n",
    "0 & \\pmb{x}^{\\top}\\pmb{w}\\leq 0\n",
    "\\end{matrix}\\right.\n",
    "$$\n",
    "\n",
    "ក្នុងករណីការកំណត់spam mail យើងអាចកំណត់ជាទម្រង់ម៉ូឌែលលីនេអ៊ែរខាងលើបានដោយកំណត់យក \\hat{y}=1 សម្គាល់spam mail និង \\hat{y}=0សម្គាល់សារធម្មតា។ \n",
    "ដើម្បីងាយស្រួលយល់ពីម៉ូឌែលនេះ យើងមកមើលឧទាហរណ៍ងាយមួយក្នុងការកំណត់spam mailដូចខាងក្រោម។ \n",
    "\n",
    "សន្មតថា វ៉ិចទ័រធាតុចូល(អត្ថបទសារ)មានវិមាត្រ10។ យើងកំណត់វ៉ិចទ័រនេះបង្ហាញពីវត្តមាននៃពាក្យគន្លឹះចំនួន១០ ដោយយកតម្លៃ0 ឬ 1 ត្រង់ពាក្យគន្លឹះនិមួយៗប្រសិនបើពាក្យគន្លឹះនោះគ្មានឬមានវត្តមានក្នុងអត្ថបទសារ។ \n",
    "\n",
    "ឧទាហរណ៍ ពាក្យគន្លឹះដែលរៀបចំទុកមាន “assignment”, “boy”, “file”, “hello”, “love”, “my”, “photo”, “password”, “school” , “text”។ ក្នុងករណីនេះ អត្ថបទសារ “Hello my boy, I sent you my photo in the attached file” អាចបង្ហាញជាទម្រង់វ៉ិចទ័រ $\\pmb{x}\\in\\mathbb{R}^d$ បានដូចខាងក្រោម \n",
    "\n",
    "$$\n",
    "\\pmb{x}=\\left(\\begin{matrix}\\begin{matrix}\\begin{matrix}0&1\\\\\\end{matrix}&\\begin{matrix}1&1\\\\\\end{matrix}\\\\\\end{matrix}&\\begin{matrix}\\begin{matrix}0&1\\\\\\end{matrix}&\\begin{matrix}\\begin{matrix}1&0\\\\\\end{matrix}&\\begin{matrix}0&0\\\\\\end{matrix}\\\\\\end{matrix}\\\\\\end{matrix}\\\\\\end{matrix}\\right)^\\top\n",
    "$$\n",
    "\n",
    "ចំពោះការប៉ាន់ស្មានដោយម៉ូឌែលលីនេអ៊ែរខាងលើ ចំពោះប៉ារ៉ាម៉ែត្រ$\\pmb{w}=\\left(\\begin{matrix}w_1&\\cdots&w_{10}\\\\\\end{matrix}\\right)^\\top $ ផលគុណស្កាលែក្នុងករណីអត្ថបទសារខាងលើត្រូវបានគណនាដូចខាងក្រោម។ក្នុងករណីនេះប្រសិនបើតម្លៃផលគុណស្កាលែនេះវិជ្ជមាននោះ អត្ថបទនេះត្រូវបានកំណត់ថាជាspam mail។ \n",
    "\n",
    "$$\n",
    "\\pmb{x}^\\top\\pmb{w}=\\left(\\begin{matrix}\\begin{matrix}\\begin{matrix}0&1\\\\\\end{matrix}&\\begin{matrix}1&1\\\\\\end{matrix}\\\\\\end{matrix}&\\begin{matrix}\\begin{matrix}0&1\\\\\\end{matrix}&\\begin{matrix}\\begin{matrix}1&0\\\\\\end{matrix}&\\begin{matrix}0&0\\\\\\end{matrix}\\\\\\end{matrix}\\\\\\end{matrix}\\\\\\end{matrix}\\right)\\left(\\begin{matrix}\\begin{matrix}w_1\\\\w_2\\\\\\end{matrix}\\\\\\vdots\\\\\\begin{matrix}w_9\\\\w_{10}\\\\\\end{matrix}\\\\\\end{matrix}\\right)=w_2+w_3+w_4+w_6+w_7\n",
    "$$\n",
    "\n",
    "ប៉ុន្តែដូចដែលអ្នកកត់សម្គាល់បាន បញ្ហាសម្រាប់យើងគឺថា តើនឹងត្រូវកំណត់តម្លៃនៃប៉ារ៉ាម៉ែត្ររបស់ម៉ូឌែលដោយរបៀបណា។ មានវិធីសាស្រ្តជាច្រើនត្រូវបានប្រើ តែក្នុងអត្ថបទនេះយើងនឹងណែនាំម៉ូឌែលតម្រែតម្រង់Logistic។\n"
   ],
   "cell_type": "markdown",
   "metadata": {}
  },
  {
   "source": [
    "## តម្រែតម្រង់Logistic (Logistic Regression)"
   ],
   "cell_type": "markdown",
   "metadata": {}
  },
  {
   "source": [
    "តម្រែតម្រង់Logisticគឺជាម៉ូឌែលលីនេអ៊ែរនៃចំណាត់ថ្នាក់២ក្រុមមួយប្រភេទ ដែលប្រូបាបមាន\n",
    "លក្ខខណ្ឌ$p\\left(y|\\pmb{x}\\right)$ពោលគឺប្រូបាបដែលប្រភេទនៃទិន្នន័យyត្រូវបានទស្សន៍ទាយចំពោះអថេរពន្យល់$ \\pmb{x} $ត្រូវបានគណនាដូចខាងក្រោម។\n",
    "\n",
    "$$\n",
    "P\\left(\\hat{y}=1|\\pmb{x}\\right)=\\sigma\\left(\\pmb{x}^\\top\\pmb{w}\\right)=\\frac{\\exp{\\left(\\pmb{x}^\\top\\pmb{w}\\right)}}{1+\\exp{\\left(\\pmb{x}^\\top\\pmb{w}\\right)}}=\\frac{1}{1+\\exp{\\left(-\\pmb{x}^\\top\\pmb{w}\\right)}}\n",
    "$$\n",
    "$$\n",
    "P\\left(\\hat{y}=0|\\pmb{x}\\right)=1-P\\left(\\hat{y}=1|\\pmb{x}\\right)=1-\\sigma\\left(\\pmb{x}^\\top\\pmb{w}\\right)=\\sigma\\left(-\\pmb{x}^\\top\\pmb{w}\\right)\n",
    "$$\n",
    "នៅទីនេះ $\\sigma\\left(x\\right)$ ជាអនុគមន៍sigmaដែលត្រូវបានគណនាដូចខាងក្រោម។\n",
    "\n",
    "$$\n",
    "\\sigma\\left(x\\right)=\\frac{\\exp{\\left(x\\right)}}{1+\\exp{\\left(x\\right)}}=\\frac{1}{1+\\exp{\\left(-x\\right)}}\n",
    "$$\n"
   ],
   "cell_type": "markdown",
   "metadata": {}
  },
  {
   "cell_type": "code",
   "execution_count": 7,
   "metadata": {},
   "outputs": [
    {
     "output_type": "display_data",
     "data": {
      "text/plain": "<Figure size 432x288 with 1 Axes>",
      "image/svg+xml": "<?xml version=\"1.0\" encoding=\"utf-8\" standalone=\"no\"?>\n<!DOCTYPE svg PUBLIC \"-//W3C//DTD SVG 1.1//EN\"\n  \"http://www.w3.org/Graphics/SVG/1.1/DTD/svg11.dtd\">\n<!-- Created with matplotlib (https://matplotlib.org/) -->\n<svg height=\"263.63625pt\" version=\"1.1\" viewBox=\"0 0 372.103125 263.63625\" width=\"372.103125pt\" xmlns=\"http://www.w3.org/2000/svg\" xmlns:xlink=\"http://www.w3.org/1999/xlink\">\n <metadata>\n  <rdf:RDF xmlns:cc=\"http://creativecommons.org/ns#\" xmlns:dc=\"http://purl.org/dc/elements/1.1/\" xmlns:rdf=\"http://www.w3.org/1999/02/22-rdf-syntax-ns#\">\n   <cc:Work>\n    <dc:type rdf:resource=\"http://purl.org/dc/dcmitype/StillImage\"/>\n    <dc:date>2021-02-04T23:50:53.836971</dc:date>\n    <dc:format>image/svg+xml</dc:format>\n    <dc:creator>\n     <cc:Agent>\n      <dc:title>Matplotlib v3.3.1, https://matplotlib.org/</dc:title>\n     </cc:Agent>\n    </dc:creator>\n   </cc:Work>\n  </rdf:RDF>\n </metadata>\n <defs>\n  <style type=\"text/css\">*{stroke-linecap:butt;stroke-linejoin:round;}</style>\n </defs>\n <g id=\"figure_1\">\n  <g id=\"patch_1\">\n   <path d=\"M 0 263.63625 \nL 372.103125 263.63625 \nL 372.103125 0 \nL 0 0 \nz\n\" style=\"fill:none;\"/>\n  </g>\n  <g id=\"axes_1\">\n   <g id=\"patch_2\">\n    <path d=\"M 30.103125 239.758125 \nL 364.903125 239.758125 \nL 364.903125 22.318125 \nL 30.103125 22.318125 \nz\n\" style=\"fill:#ffffff;\"/>\n   </g>\n   <g id=\"matplotlib.axis_1\">\n    <g id=\"xtick_1\">\n     <g id=\"line2d_1\">\n      <path clip-path=\"url(#pe54bee56c5)\" d=\"M 45.321307 239.758125 \nL 45.321307 22.318125 \n\" style=\"fill:none;stroke:#b0b0b0;stroke-linecap:square;stroke-width:0.8;\"/>\n     </g>\n     <g id=\"line2d_2\">\n      <defs>\n       <path d=\"M 0 0 \nL 0 3.5 \n\" id=\"m9dcb3cef74\" style=\"stroke:#000000;stroke-width:0.8;\"/>\n      </defs>\n      <g>\n       <use style=\"stroke:#000000;stroke-width:0.8;\" x=\"45.321307\" xlink:href=\"#m9dcb3cef74\" y=\"239.758125\"/>\n      </g>\n     </g>\n     <g id=\"text_1\">\n      <!-- −8 -->\n      <g transform=\"translate(37.950213 254.356563)scale(0.1 -0.1)\">\n       <defs>\n        <path d=\"M 10.59375 35.5 \nL 73.1875 35.5 \nL 73.1875 27.203125 \nL 10.59375 27.203125 \nz\n\" id=\"DejaVuSans-8722\"/>\n        <path d=\"M 31.78125 34.625 \nQ 24.75 34.625 20.71875 30.859375 \nQ 16.703125 27.09375 16.703125 20.515625 \nQ 16.703125 13.921875 20.71875 10.15625 \nQ 24.75 6.390625 31.78125 6.390625 \nQ 38.8125 6.390625 42.859375 10.171875 \nQ 46.921875 13.96875 46.921875 20.515625 \nQ 46.921875 27.09375 42.890625 30.859375 \nQ 38.875 34.625 31.78125 34.625 \nz\nM 21.921875 38.8125 \nQ 15.578125 40.375 12.03125 44.71875 \nQ 8.5 49.078125 8.5 55.328125 \nQ 8.5 64.0625 14.71875 69.140625 \nQ 20.953125 74.21875 31.78125 74.21875 \nQ 42.671875 74.21875 48.875 69.140625 \nQ 55.078125 64.0625 55.078125 55.328125 \nQ 55.078125 49.078125 51.53125 44.71875 \nQ 48 40.375 41.703125 38.8125 \nQ 48.828125 37.15625 52.796875 32.3125 \nQ 56.78125 27.484375 56.78125 20.515625 \nQ 56.78125 9.90625 50.3125 4.234375 \nQ 43.84375 -1.421875 31.78125 -1.421875 \nQ 19.734375 -1.421875 13.25 4.234375 \nQ 6.78125 9.90625 6.78125 20.515625 \nQ 6.78125 27.484375 10.78125 32.3125 \nQ 14.796875 37.15625 21.921875 38.8125 \nz\nM 18.3125 54.390625 \nQ 18.3125 48.734375 21.84375 45.5625 \nQ 25.390625 42.390625 31.78125 42.390625 \nQ 38.140625 42.390625 41.71875 45.5625 \nQ 45.3125 48.734375 45.3125 54.390625 \nQ 45.3125 60.0625 41.71875 63.234375 \nQ 38.140625 66.40625 31.78125 66.40625 \nQ 25.390625 66.40625 21.84375 63.234375 \nQ 18.3125 60.0625 18.3125 54.390625 \nz\n\" id=\"DejaVuSans-56\"/>\n       </defs>\n       <use xlink:href=\"#DejaVuSans-8722\"/>\n       <use x=\"83.789062\" xlink:href=\"#DejaVuSans-56\"/>\n      </g>\n     </g>\n    </g>\n    <g id=\"xtick_2\">\n     <g id=\"line2d_3\">\n      <path clip-path=\"url(#pe54bee56c5)\" d=\"M 83.366761 239.758125 \nL 83.366761 22.318125 \n\" style=\"fill:none;stroke:#b0b0b0;stroke-linecap:square;stroke-width:0.8;\"/>\n     </g>\n     <g id=\"line2d_4\">\n      <g>\n       <use style=\"stroke:#000000;stroke-width:0.8;\" x=\"83.366761\" xlink:href=\"#m9dcb3cef74\" y=\"239.758125\"/>\n      </g>\n     </g>\n     <g id=\"text_2\">\n      <!-- −6 -->\n      <g transform=\"translate(75.995668 254.356563)scale(0.1 -0.1)\">\n       <defs>\n        <path d=\"M 33.015625 40.375 \nQ 26.375 40.375 22.484375 35.828125 \nQ 18.609375 31.296875 18.609375 23.390625 \nQ 18.609375 15.53125 22.484375 10.953125 \nQ 26.375 6.390625 33.015625 6.390625 \nQ 39.65625 6.390625 43.53125 10.953125 \nQ 47.40625 15.53125 47.40625 23.390625 \nQ 47.40625 31.296875 43.53125 35.828125 \nQ 39.65625 40.375 33.015625 40.375 \nz\nM 52.59375 71.296875 \nL 52.59375 62.3125 \nQ 48.875 64.0625 45.09375 64.984375 \nQ 41.3125 65.921875 37.59375 65.921875 \nQ 27.828125 65.921875 22.671875 59.328125 \nQ 17.53125 52.734375 16.796875 39.40625 \nQ 19.671875 43.65625 24.015625 45.921875 \nQ 28.375 48.1875 33.59375 48.1875 \nQ 44.578125 48.1875 50.953125 41.515625 \nQ 57.328125 34.859375 57.328125 23.390625 \nQ 57.328125 12.15625 50.6875 5.359375 \nQ 44.046875 -1.421875 33.015625 -1.421875 \nQ 20.359375 -1.421875 13.671875 8.265625 \nQ 6.984375 17.96875 6.984375 36.375 \nQ 6.984375 53.65625 15.1875 63.9375 \nQ 23.390625 74.21875 37.203125 74.21875 \nQ 40.921875 74.21875 44.703125 73.484375 \nQ 48.484375 72.75 52.59375 71.296875 \nz\n\" id=\"DejaVuSans-54\"/>\n       </defs>\n       <use xlink:href=\"#DejaVuSans-8722\"/>\n       <use x=\"83.789062\" xlink:href=\"#DejaVuSans-54\"/>\n      </g>\n     </g>\n    </g>\n    <g id=\"xtick_3\">\n     <g id=\"line2d_5\">\n      <path clip-path=\"url(#pe54bee56c5)\" d=\"M 121.412216 239.758125 \nL 121.412216 22.318125 \n\" style=\"fill:none;stroke:#b0b0b0;stroke-linecap:square;stroke-width:0.8;\"/>\n     </g>\n     <g id=\"line2d_6\">\n      <g>\n       <use style=\"stroke:#000000;stroke-width:0.8;\" x=\"121.412216\" xlink:href=\"#m9dcb3cef74\" y=\"239.758125\"/>\n      </g>\n     </g>\n     <g id=\"text_3\">\n      <!-- −4 -->\n      <g transform=\"translate(114.041122 254.356563)scale(0.1 -0.1)\">\n       <defs>\n        <path d=\"M 37.796875 64.3125 \nL 12.890625 25.390625 \nL 37.796875 25.390625 \nz\nM 35.203125 72.90625 \nL 47.609375 72.90625 \nL 47.609375 25.390625 \nL 58.015625 25.390625 \nL 58.015625 17.1875 \nL 47.609375 17.1875 \nL 47.609375 0 \nL 37.796875 0 \nL 37.796875 17.1875 \nL 4.890625 17.1875 \nL 4.890625 26.703125 \nz\n\" id=\"DejaVuSans-52\"/>\n       </defs>\n       <use xlink:href=\"#DejaVuSans-8722\"/>\n       <use x=\"83.789062\" xlink:href=\"#DejaVuSans-52\"/>\n      </g>\n     </g>\n    </g>\n    <g id=\"xtick_4\">\n     <g id=\"line2d_7\">\n      <path clip-path=\"url(#pe54bee56c5)\" d=\"M 159.45767 239.758125 \nL 159.45767 22.318125 \n\" style=\"fill:none;stroke:#b0b0b0;stroke-linecap:square;stroke-width:0.8;\"/>\n     </g>\n     <g id=\"line2d_8\">\n      <g>\n       <use style=\"stroke:#000000;stroke-width:0.8;\" x=\"159.45767\" xlink:href=\"#m9dcb3cef74\" y=\"239.758125\"/>\n      </g>\n     </g>\n     <g id=\"text_4\">\n      <!-- −2 -->\n      <g transform=\"translate(152.086577 254.356563)scale(0.1 -0.1)\">\n       <defs>\n        <path d=\"M 19.1875 8.296875 \nL 53.609375 8.296875 \nL 53.609375 0 \nL 7.328125 0 \nL 7.328125 8.296875 \nQ 12.9375 14.109375 22.625 23.890625 \nQ 32.328125 33.6875 34.8125 36.53125 \nQ 39.546875 41.84375 41.421875 45.53125 \nQ 43.3125 49.21875 43.3125 52.78125 \nQ 43.3125 58.59375 39.234375 62.25 \nQ 35.15625 65.921875 28.609375 65.921875 \nQ 23.96875 65.921875 18.8125 64.3125 \nQ 13.671875 62.703125 7.8125 59.421875 \nL 7.8125 69.390625 \nQ 13.765625 71.78125 18.9375 73 \nQ 24.125 74.21875 28.421875 74.21875 \nQ 39.75 74.21875 46.484375 68.546875 \nQ 53.21875 62.890625 53.21875 53.421875 \nQ 53.21875 48.921875 51.53125 44.890625 \nQ 49.859375 40.875 45.40625 35.40625 \nQ 44.1875 33.984375 37.640625 27.21875 \nQ 31.109375 20.453125 19.1875 8.296875 \nz\n\" id=\"DejaVuSans-50\"/>\n       </defs>\n       <use xlink:href=\"#DejaVuSans-8722\"/>\n       <use x=\"83.789062\" xlink:href=\"#DejaVuSans-50\"/>\n      </g>\n     </g>\n    </g>\n    <g id=\"xtick_5\">\n     <g id=\"line2d_9\">\n      <path clip-path=\"url(#pe54bee56c5)\" d=\"M 197.503125 239.758125 \nL 197.503125 22.318125 \n\" style=\"fill:none;stroke:#b0b0b0;stroke-linecap:square;stroke-width:0.8;\"/>\n     </g>\n     <g id=\"line2d_10\">\n      <g>\n       <use style=\"stroke:#000000;stroke-width:0.8;\" x=\"197.503125\" xlink:href=\"#m9dcb3cef74\" y=\"239.758125\"/>\n      </g>\n     </g>\n     <g id=\"text_5\">\n      <!-- 0 -->\n      <g transform=\"translate(194.321875 254.356563)scale(0.1 -0.1)\">\n       <defs>\n        <path d=\"M 31.78125 66.40625 \nQ 24.171875 66.40625 20.328125 58.90625 \nQ 16.5 51.421875 16.5 36.375 \nQ 16.5 21.390625 20.328125 13.890625 \nQ 24.171875 6.390625 31.78125 6.390625 \nQ 39.453125 6.390625 43.28125 13.890625 \nQ 47.125 21.390625 47.125 36.375 \nQ 47.125 51.421875 43.28125 58.90625 \nQ 39.453125 66.40625 31.78125 66.40625 \nz\nM 31.78125 74.21875 \nQ 44.046875 74.21875 50.515625 64.515625 \nQ 56.984375 54.828125 56.984375 36.375 \nQ 56.984375 17.96875 50.515625 8.265625 \nQ 44.046875 -1.421875 31.78125 -1.421875 \nQ 19.53125 -1.421875 13.0625 8.265625 \nQ 6.59375 17.96875 6.59375 36.375 \nQ 6.59375 54.828125 13.0625 64.515625 \nQ 19.53125 74.21875 31.78125 74.21875 \nz\n\" id=\"DejaVuSans-48\"/>\n       </defs>\n       <use xlink:href=\"#DejaVuSans-48\"/>\n      </g>\n     </g>\n    </g>\n    <g id=\"xtick_6\">\n     <g id=\"line2d_11\">\n      <path clip-path=\"url(#pe54bee56c5)\" d=\"M 235.54858 239.758125 \nL 235.54858 22.318125 \n\" style=\"fill:none;stroke:#b0b0b0;stroke-linecap:square;stroke-width:0.8;\"/>\n     </g>\n     <g id=\"line2d_12\">\n      <g>\n       <use style=\"stroke:#000000;stroke-width:0.8;\" x=\"235.54858\" xlink:href=\"#m9dcb3cef74\" y=\"239.758125\"/>\n      </g>\n     </g>\n     <g id=\"text_6\">\n      <!-- 2 -->\n      <g transform=\"translate(232.36733 254.356563)scale(0.1 -0.1)\">\n       <use xlink:href=\"#DejaVuSans-50\"/>\n      </g>\n     </g>\n    </g>\n    <g id=\"xtick_7\">\n     <g id=\"line2d_13\">\n      <path clip-path=\"url(#pe54bee56c5)\" d=\"M 273.594034 239.758125 \nL 273.594034 22.318125 \n\" style=\"fill:none;stroke:#b0b0b0;stroke-linecap:square;stroke-width:0.8;\"/>\n     </g>\n     <g id=\"line2d_14\">\n      <g>\n       <use style=\"stroke:#000000;stroke-width:0.8;\" x=\"273.594034\" xlink:href=\"#m9dcb3cef74\" y=\"239.758125\"/>\n      </g>\n     </g>\n     <g id=\"text_7\">\n      <!-- 4 -->\n      <g transform=\"translate(270.412784 254.356563)scale(0.1 -0.1)\">\n       <use xlink:href=\"#DejaVuSans-52\"/>\n      </g>\n     </g>\n    </g>\n    <g id=\"xtick_8\">\n     <g id=\"line2d_15\">\n      <path clip-path=\"url(#pe54bee56c5)\" d=\"M 311.639489 239.758125 \nL 311.639489 22.318125 \n\" style=\"fill:none;stroke:#b0b0b0;stroke-linecap:square;stroke-width:0.8;\"/>\n     </g>\n     <g id=\"line2d_16\">\n      <g>\n       <use style=\"stroke:#000000;stroke-width:0.8;\" x=\"311.639489\" xlink:href=\"#m9dcb3cef74\" y=\"239.758125\"/>\n      </g>\n     </g>\n     <g id=\"text_8\">\n      <!-- 6 -->\n      <g transform=\"translate(308.458239 254.356563)scale(0.1 -0.1)\">\n       <use xlink:href=\"#DejaVuSans-54\"/>\n      </g>\n     </g>\n    </g>\n    <g id=\"xtick_9\">\n     <g id=\"line2d_17\">\n      <path clip-path=\"url(#pe54bee56c5)\" d=\"M 349.684943 239.758125 \nL 349.684943 22.318125 \n\" style=\"fill:none;stroke:#b0b0b0;stroke-linecap:square;stroke-width:0.8;\"/>\n     </g>\n     <g id=\"line2d_18\">\n      <g>\n       <use style=\"stroke:#000000;stroke-width:0.8;\" x=\"349.684943\" xlink:href=\"#m9dcb3cef74\" y=\"239.758125\"/>\n      </g>\n     </g>\n     <g id=\"text_9\">\n      <!-- 8 -->\n      <g transform=\"translate(346.503693 254.356563)scale(0.1 -0.1)\">\n       <use xlink:href=\"#DejaVuSans-56\"/>\n      </g>\n     </g>\n    </g>\n   </g>\n   <g id=\"matplotlib.axis_2\">\n    <g id=\"ytick_1\">\n     <g id=\"line2d_19\">\n      <path clip-path=\"url(#pe54bee56c5)\" d=\"M 30.103125 221.638125 \nL 364.903125 221.638125 \n\" style=\"fill:none;stroke:#b0b0b0;stroke-linecap:square;stroke-width:0.8;\"/>\n     </g>\n     <g id=\"line2d_20\">\n      <defs>\n       <path d=\"M 0 0 \nL -3.5 0 \n\" id=\"me9294d386c\" style=\"stroke:#000000;stroke-width:0.8;\"/>\n      </defs>\n      <g>\n       <use style=\"stroke:#000000;stroke-width:0.8;\" x=\"30.103125\" xlink:href=\"#me9294d386c\" y=\"221.638125\"/>\n      </g>\n     </g>\n     <g id=\"text_10\">\n      <!-- 0.0 -->\n      <g transform=\"translate(7.2 225.437344)scale(0.1 -0.1)\">\n       <defs>\n        <path d=\"M 10.6875 12.40625 \nL 21 12.40625 \nL 21 0 \nL 10.6875 0 \nz\n\" id=\"DejaVuSans-46\"/>\n       </defs>\n       <use xlink:href=\"#DejaVuSans-48\"/>\n       <use x=\"63.623047\" xlink:href=\"#DejaVuSans-46\"/>\n       <use x=\"95.410156\" xlink:href=\"#DejaVuSans-48\"/>\n      </g>\n     </g>\n    </g>\n    <g id=\"ytick_2\">\n     <g id=\"line2d_21\">\n      <path clip-path=\"url(#pe54bee56c5)\" d=\"M 30.103125 185.398125 \nL 364.903125 185.398125 \n\" style=\"fill:none;stroke:#b0b0b0;stroke-linecap:square;stroke-width:0.8;\"/>\n     </g>\n     <g id=\"line2d_22\">\n      <g>\n       <use style=\"stroke:#000000;stroke-width:0.8;\" x=\"30.103125\" xlink:href=\"#me9294d386c\" y=\"185.398125\"/>\n      </g>\n     </g>\n     <g id=\"text_11\">\n      <!-- 0.2 -->\n      <g transform=\"translate(7.2 189.197344)scale(0.1 -0.1)\">\n       <use xlink:href=\"#DejaVuSans-48\"/>\n       <use x=\"63.623047\" xlink:href=\"#DejaVuSans-46\"/>\n       <use x=\"95.410156\" xlink:href=\"#DejaVuSans-50\"/>\n      </g>\n     </g>\n    </g>\n    <g id=\"ytick_3\">\n     <g id=\"line2d_23\">\n      <path clip-path=\"url(#pe54bee56c5)\" d=\"M 30.103125 149.158125 \nL 364.903125 149.158125 \n\" style=\"fill:none;stroke:#b0b0b0;stroke-linecap:square;stroke-width:0.8;\"/>\n     </g>\n     <g id=\"line2d_24\">\n      <g>\n       <use style=\"stroke:#000000;stroke-width:0.8;\" x=\"30.103125\" xlink:href=\"#me9294d386c\" y=\"149.158125\"/>\n      </g>\n     </g>\n     <g id=\"text_12\">\n      <!-- 0.4 -->\n      <g transform=\"translate(7.2 152.957344)scale(0.1 -0.1)\">\n       <use xlink:href=\"#DejaVuSans-48\"/>\n       <use x=\"63.623047\" xlink:href=\"#DejaVuSans-46\"/>\n       <use x=\"95.410156\" xlink:href=\"#DejaVuSans-52\"/>\n      </g>\n     </g>\n    </g>\n    <g id=\"ytick_4\">\n     <g id=\"line2d_25\">\n      <path clip-path=\"url(#pe54bee56c5)\" d=\"M 30.103125 112.918125 \nL 364.903125 112.918125 \n\" style=\"fill:none;stroke:#b0b0b0;stroke-linecap:square;stroke-width:0.8;\"/>\n     </g>\n     <g id=\"line2d_26\">\n      <g>\n       <use style=\"stroke:#000000;stroke-width:0.8;\" x=\"30.103125\" xlink:href=\"#me9294d386c\" y=\"112.918125\"/>\n      </g>\n     </g>\n     <g id=\"text_13\">\n      <!-- 0.6 -->\n      <g transform=\"translate(7.2 116.717344)scale(0.1 -0.1)\">\n       <use xlink:href=\"#DejaVuSans-48\"/>\n       <use x=\"63.623047\" xlink:href=\"#DejaVuSans-46\"/>\n       <use x=\"95.410156\" xlink:href=\"#DejaVuSans-54\"/>\n      </g>\n     </g>\n    </g>\n    <g id=\"ytick_5\">\n     <g id=\"line2d_27\">\n      <path clip-path=\"url(#pe54bee56c5)\" d=\"M 30.103125 76.678125 \nL 364.903125 76.678125 \n\" style=\"fill:none;stroke:#b0b0b0;stroke-linecap:square;stroke-width:0.8;\"/>\n     </g>\n     <g id=\"line2d_28\">\n      <g>\n       <use style=\"stroke:#000000;stroke-width:0.8;\" x=\"30.103125\" xlink:href=\"#me9294d386c\" y=\"76.678125\"/>\n      </g>\n     </g>\n     <g id=\"text_14\">\n      <!-- 0.8 -->\n      <g transform=\"translate(7.2 80.477344)scale(0.1 -0.1)\">\n       <use xlink:href=\"#DejaVuSans-48\"/>\n       <use x=\"63.623047\" xlink:href=\"#DejaVuSans-46\"/>\n       <use x=\"95.410156\" xlink:href=\"#DejaVuSans-56\"/>\n      </g>\n     </g>\n    </g>\n    <g id=\"ytick_6\">\n     <g id=\"line2d_29\">\n      <path clip-path=\"url(#pe54bee56c5)\" d=\"M 30.103125 40.438125 \nL 364.903125 40.438125 \n\" style=\"fill:none;stroke:#b0b0b0;stroke-linecap:square;stroke-width:0.8;\"/>\n     </g>\n     <g id=\"line2d_30\">\n      <g>\n       <use style=\"stroke:#000000;stroke-width:0.8;\" x=\"30.103125\" xlink:href=\"#me9294d386c\" y=\"40.438125\"/>\n      </g>\n     </g>\n     <g id=\"text_15\">\n      <!-- 1.0 -->\n      <g transform=\"translate(7.2 44.237344)scale(0.1 -0.1)\">\n       <defs>\n        <path d=\"M 12.40625 8.296875 \nL 28.515625 8.296875 \nL 28.515625 63.921875 \nL 10.984375 60.40625 \nL 10.984375 69.390625 \nL 28.421875 72.90625 \nL 38.28125 72.90625 \nL 38.28125 8.296875 \nL 54.390625 8.296875 \nL 54.390625 0 \nL 12.40625 0 \nz\n\" id=\"DejaVuSans-49\"/>\n       </defs>\n       <use xlink:href=\"#DejaVuSans-49\"/>\n       <use x=\"63.623047\" xlink:href=\"#DejaVuSans-46\"/>\n       <use x=\"95.410156\" xlink:href=\"#DejaVuSans-48\"/>\n      </g>\n     </g>\n    </g>\n   </g>\n   <g id=\"line2d_31\">\n    <path clip-path=\"url(#pe54bee56c5)\" d=\"M 45.321307 221.57736 \nL 48.395687 221.566705 \nL 51.470067 221.554183 \nL 54.544447 221.539467 \nL 57.618827 221.522172 \nL 60.693208 221.501849 \nL 63.767588 221.477966 \nL 66.841968 221.449901 \nL 69.916348 221.416926 \nL 72.990728 221.378181 \nL 76.065108 221.332661 \nL 79.139489 221.279186 \nL 82.213869 221.216372 \nL 85.288249 221.142595 \nL 88.362629 221.055954 \nL 91.437009 220.954221 \nL 94.511389 220.83479 \nL 97.58577 220.694611 \nL 100.66015 220.530123 \nL 103.73453 220.337164 \nL 106.80891 220.110888 \nL 109.88329 219.845647 \nL 112.95767 219.534879 \nL 116.032051 219.170974 \nL 119.106431 218.745123 \nL 122.180811 218.247161 \nL 125.255191 217.665397 \nL 128.329571 216.986434 \nL 131.403951 216.194996 \nL 134.478332 215.273757 \nL 137.552712 214.203196 \nL 140.627092 212.961491 \nL 143.701472 211.524479 \nL 146.775852 209.865712 \nL 149.850232 207.956641 \nL 152.924613 205.766987 \nL 155.998993 203.265325 \nL 159.073373 200.419949 \nL 162.147753 197.200049 \nL 165.222133 193.577229 \nL 168.296513 189.527356 \nL 171.370894 185.032701 \nL 174.445274 180.084264 \nL 177.519654 174.684108 \nL 180.594034 168.847466 \nL 183.668414 162.604344 \nL 186.742794 156.0003 \nL 189.817175 149.096159 \nL 192.891555 141.966474 \nL 195.965935 134.69674 \nL 199.040315 127.37951 \nL 202.114695 120.109776 \nL 205.189075 112.980091 \nL 208.263456 106.07595 \nL 211.337836 99.471906 \nL 214.412216 93.228784 \nL 217.486596 87.392142 \nL 220.560976 81.991986 \nL 223.635356 77.043549 \nL 226.709737 72.548894 \nL 229.784117 68.499021 \nL 232.858497 64.876201 \nL 235.932877 61.656301 \nL 239.007257 58.810925 \nL 242.081637 56.309263 \nL 245.156018 54.119609 \nL 248.230398 52.210538 \nL 251.304778 50.551771 \nL 254.379158 49.114759 \nL 257.453538 47.873054 \nL 260.527918 46.802493 \nL 263.602299 45.881254 \nL 266.676679 45.089816 \nL 269.751059 44.410853 \nL 272.825439 43.829089 \nL 275.899819 43.331127 \nL 278.974199 42.905276 \nL 282.04858 42.541371 \nL 285.12296 42.230603 \nL 288.19734 41.965362 \nL 291.27172 41.739086 \nL 294.3461 41.546127 \nL 297.42048 41.381639 \nL 300.494861 41.24146 \nL 303.569241 41.122029 \nL 306.643621 41.020296 \nL 309.718001 40.933655 \nL 312.792381 40.859878 \nL 315.866761 40.797064 \nL 318.941142 40.743589 \nL 322.015522 40.698069 \nL 325.089902 40.659324 \nL 328.164282 40.626349 \nL 331.238662 40.598284 \nL 334.313042 40.574401 \nL 337.387423 40.554078 \nL 340.461803 40.536783 \nL 343.536183 40.522067 \nL 346.610563 40.509545 \nL 349.684943 40.49889 \n\" style=\"fill:none;stroke:#1f77b4;stroke-linecap:square;stroke-width:1.5;\"/>\n   </g>\n   <g id=\"patch_3\">\n    <path d=\"M 30.103125 239.758125 \nL 30.103125 22.318125 \n\" style=\"fill:none;stroke:#000000;stroke-linecap:square;stroke-linejoin:miter;stroke-width:0.8;\"/>\n   </g>\n   <g id=\"patch_4\">\n    <path d=\"M 364.903125 239.758125 \nL 364.903125 22.318125 \n\" style=\"fill:none;stroke:#000000;stroke-linecap:square;stroke-linejoin:miter;stroke-width:0.8;\"/>\n   </g>\n   <g id=\"patch_5\">\n    <path d=\"M 30.103125 239.758125 \nL 364.903125 239.758125 \n\" style=\"fill:none;stroke:#000000;stroke-linecap:square;stroke-linejoin:miter;stroke-width:0.8;\"/>\n   </g>\n   <g id=\"patch_6\">\n    <path d=\"M 30.103125 22.318125 \nL 364.903125 22.318125 \n\" style=\"fill:none;stroke:#000000;stroke-linecap:square;stroke-linejoin:miter;stroke-width:0.8;\"/>\n   </g>\n   <g id=\"text_16\">\n    <!-- Sigmoid Function -->\n    <g transform=\"translate(145.801875 16.318125)scale(0.12 -0.12)\">\n     <defs>\n      <path d=\"M 53.515625 70.515625 \nL 53.515625 60.890625 \nQ 47.90625 63.578125 42.921875 64.890625 \nQ 37.9375 66.21875 33.296875 66.21875 \nQ 25.25 66.21875 20.875 63.09375 \nQ 16.5 59.96875 16.5 54.203125 \nQ 16.5 49.359375 19.40625 46.890625 \nQ 22.3125 44.4375 30.421875 42.921875 \nL 36.375 41.703125 \nQ 47.40625 39.59375 52.65625 34.296875 \nQ 57.90625 29 57.90625 20.125 \nQ 57.90625 9.515625 50.796875 4.046875 \nQ 43.703125 -1.421875 29.984375 -1.421875 \nQ 24.8125 -1.421875 18.96875 -0.25 \nQ 13.140625 0.921875 6.890625 3.21875 \nL 6.890625 13.375 \nQ 12.890625 10.015625 18.65625 8.296875 \nQ 24.421875 6.59375 29.984375 6.59375 \nQ 38.421875 6.59375 43.015625 9.90625 \nQ 47.609375 13.234375 47.609375 19.390625 \nQ 47.609375 24.75 44.3125 27.78125 \nQ 41.015625 30.8125 33.5 32.328125 \nL 27.484375 33.5 \nQ 16.453125 35.6875 11.515625 40.375 \nQ 6.59375 45.0625 6.59375 53.421875 \nQ 6.59375 63.09375 13.40625 68.65625 \nQ 20.21875 74.21875 32.171875 74.21875 \nQ 37.3125 74.21875 42.625 73.28125 \nQ 47.953125 72.359375 53.515625 70.515625 \nz\n\" id=\"DejaVuSans-83\"/>\n      <path d=\"M 9.421875 54.6875 \nL 18.40625 54.6875 \nL 18.40625 0 \nL 9.421875 0 \nz\nM 9.421875 75.984375 \nL 18.40625 75.984375 \nL 18.40625 64.59375 \nL 9.421875 64.59375 \nz\n\" id=\"DejaVuSans-105\"/>\n      <path d=\"M 45.40625 27.984375 \nQ 45.40625 37.75 41.375 43.109375 \nQ 37.359375 48.484375 30.078125 48.484375 \nQ 22.859375 48.484375 18.828125 43.109375 \nQ 14.796875 37.75 14.796875 27.984375 \nQ 14.796875 18.265625 18.828125 12.890625 \nQ 22.859375 7.515625 30.078125 7.515625 \nQ 37.359375 7.515625 41.375 12.890625 \nQ 45.40625 18.265625 45.40625 27.984375 \nz\nM 54.390625 6.78125 \nQ 54.390625 -7.171875 48.1875 -13.984375 \nQ 42 -20.796875 29.203125 -20.796875 \nQ 24.46875 -20.796875 20.265625 -20.09375 \nQ 16.0625 -19.390625 12.109375 -17.921875 \nL 12.109375 -9.1875 \nQ 16.0625 -11.328125 19.921875 -12.34375 \nQ 23.78125 -13.375 27.78125 -13.375 \nQ 36.625 -13.375 41.015625 -8.765625 \nQ 45.40625 -4.15625 45.40625 5.171875 \nL 45.40625 9.625 \nQ 42.625 4.78125 38.28125 2.390625 \nQ 33.9375 0 27.875 0 \nQ 17.828125 0 11.671875 7.65625 \nQ 5.515625 15.328125 5.515625 27.984375 \nQ 5.515625 40.671875 11.671875 48.328125 \nQ 17.828125 56 27.875 56 \nQ 33.9375 56 38.28125 53.609375 \nQ 42.625 51.21875 45.40625 46.390625 \nL 45.40625 54.6875 \nL 54.390625 54.6875 \nz\n\" id=\"DejaVuSans-103\"/>\n      <path d=\"M 52 44.1875 \nQ 55.375 50.25 60.0625 53.125 \nQ 64.75 56 71.09375 56 \nQ 79.640625 56 84.28125 50.015625 \nQ 88.921875 44.046875 88.921875 33.015625 \nL 88.921875 0 \nL 79.890625 0 \nL 79.890625 32.71875 \nQ 79.890625 40.578125 77.09375 44.375 \nQ 74.3125 48.1875 68.609375 48.1875 \nQ 61.625 48.1875 57.5625 43.546875 \nQ 53.515625 38.921875 53.515625 30.90625 \nL 53.515625 0 \nL 44.484375 0 \nL 44.484375 32.71875 \nQ 44.484375 40.625 41.703125 44.40625 \nQ 38.921875 48.1875 33.109375 48.1875 \nQ 26.21875 48.1875 22.15625 43.53125 \nQ 18.109375 38.875 18.109375 30.90625 \nL 18.109375 0 \nL 9.078125 0 \nL 9.078125 54.6875 \nL 18.109375 54.6875 \nL 18.109375 46.1875 \nQ 21.1875 51.21875 25.484375 53.609375 \nQ 29.78125 56 35.6875 56 \nQ 41.65625 56 45.828125 52.96875 \nQ 50 49.953125 52 44.1875 \nz\n\" id=\"DejaVuSans-109\"/>\n      <path d=\"M 30.609375 48.390625 \nQ 23.390625 48.390625 19.1875 42.75 \nQ 14.984375 37.109375 14.984375 27.296875 \nQ 14.984375 17.484375 19.15625 11.84375 \nQ 23.34375 6.203125 30.609375 6.203125 \nQ 37.796875 6.203125 41.984375 11.859375 \nQ 46.1875 17.53125 46.1875 27.296875 \nQ 46.1875 37.015625 41.984375 42.703125 \nQ 37.796875 48.390625 30.609375 48.390625 \nz\nM 30.609375 56 \nQ 42.328125 56 49.015625 48.375 \nQ 55.71875 40.765625 55.71875 27.296875 \nQ 55.71875 13.875 49.015625 6.21875 \nQ 42.328125 -1.421875 30.609375 -1.421875 \nQ 18.84375 -1.421875 12.171875 6.21875 \nQ 5.515625 13.875 5.515625 27.296875 \nQ 5.515625 40.765625 12.171875 48.375 \nQ 18.84375 56 30.609375 56 \nz\n\" id=\"DejaVuSans-111\"/>\n      <path d=\"M 45.40625 46.390625 \nL 45.40625 75.984375 \nL 54.390625 75.984375 \nL 54.390625 0 \nL 45.40625 0 \nL 45.40625 8.203125 \nQ 42.578125 3.328125 38.25 0.953125 \nQ 33.9375 -1.421875 27.875 -1.421875 \nQ 17.96875 -1.421875 11.734375 6.484375 \nQ 5.515625 14.40625 5.515625 27.296875 \nQ 5.515625 40.1875 11.734375 48.09375 \nQ 17.96875 56 27.875 56 \nQ 33.9375 56 38.25 53.625 \nQ 42.578125 51.265625 45.40625 46.390625 \nz\nM 14.796875 27.296875 \nQ 14.796875 17.390625 18.875 11.75 \nQ 22.953125 6.109375 30.078125 6.109375 \nQ 37.203125 6.109375 41.296875 11.75 \nQ 45.40625 17.390625 45.40625 27.296875 \nQ 45.40625 37.203125 41.296875 42.84375 \nQ 37.203125 48.484375 30.078125 48.484375 \nQ 22.953125 48.484375 18.875 42.84375 \nQ 14.796875 37.203125 14.796875 27.296875 \nz\n\" id=\"DejaVuSans-100\"/>\n      <path id=\"DejaVuSans-32\"/>\n      <path d=\"M 9.8125 72.90625 \nL 51.703125 72.90625 \nL 51.703125 64.59375 \nL 19.671875 64.59375 \nL 19.671875 43.109375 \nL 48.578125 43.109375 \nL 48.578125 34.8125 \nL 19.671875 34.8125 \nL 19.671875 0 \nL 9.8125 0 \nz\n\" id=\"DejaVuSans-70\"/>\n      <path d=\"M 8.5 21.578125 \nL 8.5 54.6875 \nL 17.484375 54.6875 \nL 17.484375 21.921875 \nQ 17.484375 14.15625 20.5 10.265625 \nQ 23.53125 6.390625 29.59375 6.390625 \nQ 36.859375 6.390625 41.078125 11.03125 \nQ 45.3125 15.671875 45.3125 23.6875 \nL 45.3125 54.6875 \nL 54.296875 54.6875 \nL 54.296875 0 \nL 45.3125 0 \nL 45.3125 8.40625 \nQ 42.046875 3.421875 37.71875 1 \nQ 33.40625 -1.421875 27.6875 -1.421875 \nQ 18.265625 -1.421875 13.375 4.4375 \nQ 8.5 10.296875 8.5 21.578125 \nz\nM 31.109375 56 \nz\n\" id=\"DejaVuSans-117\"/>\n      <path d=\"M 54.890625 33.015625 \nL 54.890625 0 \nL 45.90625 0 \nL 45.90625 32.71875 \nQ 45.90625 40.484375 42.875 44.328125 \nQ 39.84375 48.1875 33.796875 48.1875 \nQ 26.515625 48.1875 22.3125 43.546875 \nQ 18.109375 38.921875 18.109375 30.90625 \nL 18.109375 0 \nL 9.078125 0 \nL 9.078125 54.6875 \nL 18.109375 54.6875 \nL 18.109375 46.1875 \nQ 21.34375 51.125 25.703125 53.5625 \nQ 30.078125 56 35.796875 56 \nQ 45.21875 56 50.046875 50.171875 \nQ 54.890625 44.34375 54.890625 33.015625 \nz\n\" id=\"DejaVuSans-110\"/>\n      <path d=\"M 48.78125 52.59375 \nL 48.78125 44.1875 \nQ 44.96875 46.296875 41.140625 47.34375 \nQ 37.3125 48.390625 33.40625 48.390625 \nQ 24.65625 48.390625 19.8125 42.84375 \nQ 14.984375 37.3125 14.984375 27.296875 \nQ 14.984375 17.28125 19.8125 11.734375 \nQ 24.65625 6.203125 33.40625 6.203125 \nQ 37.3125 6.203125 41.140625 7.25 \nQ 44.96875 8.296875 48.78125 10.40625 \nL 48.78125 2.09375 \nQ 45.015625 0.34375 40.984375 -0.53125 \nQ 36.96875 -1.421875 32.421875 -1.421875 \nQ 20.0625 -1.421875 12.78125 6.34375 \nQ 5.515625 14.109375 5.515625 27.296875 \nQ 5.515625 40.671875 12.859375 48.328125 \nQ 20.21875 56 33.015625 56 \nQ 37.15625 56 41.109375 55.140625 \nQ 45.0625 54.296875 48.78125 52.59375 \nz\n\" id=\"DejaVuSans-99\"/>\n      <path d=\"M 18.3125 70.21875 \nL 18.3125 54.6875 \nL 36.8125 54.6875 \nL 36.8125 47.703125 \nL 18.3125 47.703125 \nL 18.3125 18.015625 \nQ 18.3125 11.328125 20.140625 9.421875 \nQ 21.96875 7.515625 27.59375 7.515625 \nL 36.8125 7.515625 \nL 36.8125 0 \nL 27.59375 0 \nQ 17.1875 0 13.234375 3.875 \nQ 9.28125 7.765625 9.28125 18.015625 \nL 9.28125 47.703125 \nL 2.6875 47.703125 \nL 2.6875 54.6875 \nL 9.28125 54.6875 \nL 9.28125 70.21875 \nz\n\" id=\"DejaVuSans-116\"/>\n     </defs>\n     <use xlink:href=\"#DejaVuSans-83\"/>\n     <use x=\"63.476562\" xlink:href=\"#DejaVuSans-105\"/>\n     <use x=\"91.259766\" xlink:href=\"#DejaVuSans-103\"/>\n     <use x=\"154.736328\" xlink:href=\"#DejaVuSans-109\"/>\n     <use x=\"252.148438\" xlink:href=\"#DejaVuSans-111\"/>\n     <use x=\"313.330078\" xlink:href=\"#DejaVuSans-105\"/>\n     <use x=\"341.113281\" xlink:href=\"#DejaVuSans-100\"/>\n     <use x=\"404.589844\" xlink:href=\"#DejaVuSans-32\"/>\n     <use x=\"436.376953\" xlink:href=\"#DejaVuSans-70\"/>\n     <use x=\"488.396484\" xlink:href=\"#DejaVuSans-117\"/>\n     <use x=\"551.775391\" xlink:href=\"#DejaVuSans-110\"/>\n     <use x=\"615.154297\" xlink:href=\"#DejaVuSans-99\"/>\n     <use x=\"670.134766\" xlink:href=\"#DejaVuSans-116\"/>\n     <use x=\"709.34375\" xlink:href=\"#DejaVuSans-105\"/>\n     <use x=\"737.126953\" xlink:href=\"#DejaVuSans-111\"/>\n     <use x=\"798.308594\" xlink:href=\"#DejaVuSans-110\"/>\n    </g>\n   </g>\n  </g>\n </g>\n <defs>\n  <clipPath id=\"pe54bee56c5\">\n   <rect height=\"217.44\" width=\"334.8\" x=\"30.103125\" y=\"22.318125\"/>\n  </clipPath>\n </defs>\n</svg>\n",
      "image/png": "[encoded data removed]"
     },
     "metadata": {
      "needs_background": "light"
     }
    }
   ],
   "source": [
    "import numpy as np\n",
    "import matplotlib.pyplot as plt\n",
    "\n",
    "def sigmoid(x):\n",
    "  return 1/(1+np.exp(-x))\n",
    "\n",
    "x = np.linspace(-8,8,100)\n",
    "plt.plot(x,sigmoid(x),label='sigmoid')\n",
    "plt.grid()\n",
    "plt.ylim([-0.1,1.1])\n",
    "plt.title(\"Sigmoid Function\")\n",
    "plt.show()"
   ]
  },
  {
   "source": [
    "ចំពោះទិន្នន័យ$\\pmb{x}$ ក្នុងករណីដែលប្រូបាប$P\\left(\\hat{y}=1|\\pmb{x}\\right)>0.5 $នោះទិន្នន័យត្រូវបានទស្សន៍ទាយថាក្នុងចំណាត់ថ្នាក់ក្រុម$\\hat{y}=1 $។ការកំណត់បែបនេះគឺសមមូលគ្នានឹងលក្ខខណ្ឌផលគុណស្កាលែវិជ្ជមានដែលបានបង្ហាញខាងដើម។\n",
    "\n",
    "$$\n",
    "P\\left(\\hat{y}=1|\\pmb{x}\\right)>0.5\\Leftrightarrow\\frac{1}{1+\\exp{\\left(-\\pmb{x}^\\top\\pmb{w}\\right)}}>\\frac{1}{2}\\ \\Leftrightarrow\\exp{\\left(-\\pmb{x}^\\top\\pmb{w}\\right)}<1\\ \\Leftrightarrow\\ \\pmb{x}^\\top\\pmb{w}>0\n",
    "$$\n"
   ],
   "cell_type": "markdown",
   "metadata": {}
  },
  {
   "source": [
    "## កម្រិតសាកសមនៃទិន្នន័យ Likelihood"
   ],
   "cell_type": "markdown",
   "metadata": {}
  },
  {
   "source": [
    "ឧបមាថា ប៉ារ៉ាម៉ែត្រនៃម៉ូឌែលតម្រែតម្រង់Logisticត្រូវបានកំណត់ដូចខាងក្រោម។ \n",
    "\n",
    "$$\n",
    "\\pmb{w}=\\left(\\begin{matrix}\\begin{matrix}\\begin{matrix}-2&1\\\\\\end{matrix}&\\begin{matrix}1&0\\\\\\end{matrix}\\\\\\end{matrix}&\\begin{matrix}\\begin{matrix}1&0\\\\\\end{matrix}&\\begin{matrix}\\begin{matrix}1&1\\\\\\end{matrix}&\\begin{matrix}-1&0\\\\\\end{matrix}\\\\\\end{matrix}\\\\\\end{matrix}\\\\\\end{matrix}\\right)^\\top\n",
    "$$\n",
    "\n",
    "ក្នុងករណីនេះ តម្លៃផលគុណស្កាលែរវាងវ៉ិចទ័រអថេរពន្យល់នៃទិន្នន័យ$ \\pmb{x} $និងប៉ារ៉ាម៉ែត្រអាច\n",
    "គណនានិងបកស្រាយជាទម្រង់ប្រូបាបដូចខាងក្រោម។\n",
    "$$\n",
    "\\pmb{x}^\\top\\pmb{w}=\\left(\\begin{matrix}\\begin{matrix}\\begin{matrix}0&1\\\\\\end{matrix}&\\begin{matrix}1&1\\\\\\end{matrix}\\\\\\end{matrix}&\\begin{matrix}\\begin{matrix}0&1\\\\\\end{matrix}&\\begin{matrix}\\begin{matrix}1&0\\\\\\end{matrix}&\\begin{matrix}0&0\\\\\\end{matrix}\\\\\\end{matrix}\\\\\\end{matrix}\\\\\\end{matrix}\\right)\\left(\\begin{matrix}\\begin{matrix}-2\\\\1\\\\\\end{matrix}\\\\\\vdots\\\\\\begin{matrix}-1\\\\0\\\\\\end{matrix}\\\\\\end{matrix}\\right)=3\n",
    "$$\n",
    "$$\n",
    "P\\left(\\hat{y}=1|\\pmb{x}\\right)=\\sigma\\left(3\\right)=\\frac{1}{1+\\exp{\\left(-3\\right)}}=0.95\n",
    "$$\n",
    "\n",
    "ចំពោះលទ្ធផលនេះយើងអាចបកស្រាយថា ចំពោះអត្ថបទសារដែលបានផ្តល់ ម៉ូឌែលបានប៉ាន់ស្មានថាជាspam mailដោយតម្លៃប្រូបាប0.95។តម្លៃនេះធំជាង0.5 ហេតុនេះយើងថាម៉ូឌែលទស្សន៍ទាយថាវាជាspam mail។\n",
    "\n",
    "ក្នុងការពិភាក្សាខាងលើមកដល់ត្រឹមនេះ ចំពោះទិន្នន័យ$\\pmb{x}$និងប៉ារ៉ាម៉ែត្រ$\\pmb{w} $ ដែលត្រូវបានផ្តល់ឲ្យការប៉ាន់ស្មានរបស់ម៉ូឌែលត្រូវបានគណនាតាមវិធីដែលបានរៀបរាប់ខាងលើ។ ពេលនេះយើងពិនិត្យករណីដែលប្រភេទទិន្នន័យត្រូវបានកំណត់ជាក់លាក់ តែប៉ារ៉ាម៉ែត្រអាចត្រូវបានផ្លាស់ប្តូរ។ នៅទីនេះ យើងសិក្សាលើកម្រិតសាកសមនៃទិន្នន័យដែលម៉ូឌែលប៉ាន់ស្មានបានដោយកំណត់ជាតម្លៃប្រូបាប${\\hat{l}}_{\\left(\\pmb{x},y\\right)}\\left(\\pmb{w}\\right)$ដូចខាងក្រោម និងសន្មតហៅថា កម្រិតសាកសម Likelihood។ពោលគឺកម្រិតដែលម៉ូឌែលអាចប៉ាន់ស្មានបានត្រឹមត្រូវ(គិតជាភាគរយ)លើប្រភេទទិន្នន័យនិមួយៗ។\n",
    "\n",
    "$$\n",
    "{\\hat{l}}_{\\left(\\pmb{x},y\\right)}\\left(\\pmb{w}\\right)=P\\left(\\hat{y}=y|\\pmb{x}\\right)\n",
    "$$\n",
    "\n",
    "ឧទាហរណ៍ក្នុងករណីអត្ថបទសារខាងលើ សន្មតថាប្រភេទទិន្នន័យពិតគឺ$y=1$ ។ចំពោះប៉ារ៉ាម៉ែត្រ$\\pmb{w}$ ដែលត្រូវបានផ្តល់ឲ្យ ការប៉ាន់ស្មានរបស់ម៉ូឌែលខាងលើគឺ \n",
    "\n",
    "$$\n",
    "P\\left(\\hat{y}=1|\\pmb{x}\\right)=0.95\n",
    "$$\n",
    "ហេតុនេះកម្រិតសាកសមLikelihood : \n",
    "$$\n",
    "{\\hat{l}}_{\\left(\\pmb{x},1\\right)}\\left(\\pmb{w}\\right)=P\\left(\\hat{y}=1|\\pmb{x}\\right)=0.95\n",
    "$$\n",
    "ដែលមានន័យថា ម៉ូឌែលអាចបែងចែកថាជាspam mailបានត្រឹមត្រូវក្នុងកម្រិត95%(ប្រូបាប0.95)។ ផ្ទុយទៅវិញ ឧបមាថាយើងមានអត្ថបទសារមិនមែនspam mail មួយផ្សេង “Please submit your assignment file by tomorrow morning” ។ នោះវ៉ិចទ័រ\n",
    "\n",
    "$$\n",
    "\\pmb{x}=\\left(\\begin{matrix}\\begin{matrix}\\begin{matrix}1&0\\\\\\end{matrix}&\\begin{matrix}1&0\\\\\\end{matrix}\\\\\\end{matrix}&\\begin{matrix}\\begin{matrix}0&0\\\\\\end{matrix}&\\begin{matrix}\\begin{matrix}0&0\\\\\\end{matrix}&\\begin{matrix}0&0\\\\\\end{matrix}\\\\\\end{matrix}\\\\\\end{matrix}\\\\\\end{matrix}\\right)^\\top \n",
    "$$\n",
    "។\n",
    "\n",
    "$$\n",
    "\\pmb{x}^\\top\\pmb{w}=\\left(\\begin{matrix}\\begin{matrix}\\begin{matrix}1&0\\\\\\end{matrix}&\\begin{matrix}1&0\\\\\\end{matrix}\\\\\\end{matrix}&\\begin{matrix}\\begin{matrix}0&0\\\\\\end{matrix}&\\begin{matrix}\\begin{matrix}0&0\\\\\\end{matrix}&\\begin{matrix}0&0\\\\\\end{matrix}\\\\\\end{matrix}\\\\\\end{matrix}\\\\\\end{matrix}\\right)\\left(\\begin{matrix}\\begin{matrix}-2\\\\1\\\\\\end{matrix}\\\\\\vdots\\\\\\begin{matrix}-1\\\\0\\\\\\end{matrix}\\\\\\end{matrix}\\right)=-1\n",
    "$$\n",
    "\n",
    "$$\n",
    "P\\left(\\hat{y}=1|\\pmb{x}\\right)=\\sigma\\left(-1\\right)=\\frac{1}{1+\\exp{\\left(1\\right)}}=0.27\n",
    "$$\n",
    "\n",
    "ដោយចម្លើយពិតគឺមិនមែនជាspam mail (y=0) ហេតុនេះកម្រិតសាកសមLikelihood : \n",
    "$$\n",
    "{\\hat{l}}_{\\left(\\pmb{x},0\\right)}\\left(\\pmb{w}\\right)=P\\left(\\hat{y}=0|\\pmb{x}\\right)=1-P\\left(\\hat{y}=1|\\pmb{x}\\right)=1-0.27=0.73 \n",
    "$$\n",
    "ដែលមានន័យថាម៉ូឌែលអាចបែងចែកថាមិនមែនspam mailបានត្រឹមត្រូវក្នុងកម្រិត73%(ប្រូបាប0.73)។\n",
    "\n",
    "ចំពោះគ្រប់ប្រភេទទិន្នន័យ យើងអាចសរសេរកន្សោមកម្រិតសាកសមបានក្រោមទម្រង់\n",
    "$$\n",
    "{\\hat{l}}_{\\left(\\pmb{x},y\\right)}\\left(\\pmb{w}\\right)=P\\left(\\hat{y}=y|\\pmb{x}\\right)=\\left\\{\\begin{matrix}\n",
    "P(\\hat{y}=1|x)& (y=1)\\\\ \n",
    "P(\\hat{y}=0|x)& (y=0)\n",
    "\\end{matrix}\\right.   =π^{y}(1-π)^{1-y}\n",
    "$$\n",
    "ដែល $$\\pi=P\\left(\\hat{y}=1|\\pmb{x}\\right)=\\sigma\\left(\\pmb{x}^\\top\\pmb{w}\\right)$$។\n"
   ],
   "cell_type": "markdown",
   "metadata": {}
  },
  {
   "source": [
    "## ការប៉ាន់ស្មានមេគុណតម្រែតម្រង់តាម Maximum Likelihood"
   ],
   "cell_type": "markdown",
   "metadata": {}
  },
  {
   "source": [
    "នៅក្នុងម៉ូឌែលតម្រែតម្រង់លីនេអ៊ែរ យើងបានកំណត់តម្លៃមេគុណតម្រែតម្រង់ដោយធ្វើអប្ប\n",
    "បរមាកម្មលើតម្លៃកម្រិតលម្អៀងរវាងតម្លៃប៉ាន់ស្មានដោយម៉ូឌែលនិងតម្លៃពិតប្រាកដនៃអថេរគោលដៅ។ស្រដៀងគ្នានេះ ក្នុងម៉ូឌែលតម្រែតម្រង់Logistic យើងអាចកំណត់តម្លៃនៃប៉ារ៉ាម៉ែត្ររបស់ម៉ូឌែលដោយធ្វើអតិបរមាកម្មលើកម្រិតសាកសករបស់ទិន្នន័យដែលម៉ូឌែលអាចប៉ាន់ស្មានបាន។ វិធីសាស្រ្តនេះត្រូវបានគេហៅថា Maximum Likelihood Estimation(MLE)។\n",
    "\n",
    "ចំពោះសំណុំទិន្នន័យទាំងអស់$\\mathcal{D}$ដែលមានចំនួន$N$ យើងកំណត់កម្រិតសាកសមនៃទិន្នន័យ(likelihood)ពោលគឺកម្រិតដែលម៉ូឌែលអាចប៉ាន់ស្មានបានត្រឹមត្រូវចំពោះគ្រប់ទិន្នន័យទាំងអស់ដោយកន្សោមខាងក្រោម។ នៅទីនេះយើងសន្មតថារបាយនៃគ្រប់ទិន្នន័យទាំងអស់គឺឯករាជ្យនិងមានឯកសណ្ឋានភាព(i.i.d : independent and identically dristributed)។\n",
    "\n",
    "$$\n",
    "{\\hat{L}}_\\mathcal{D}\\left(\\pmb{w}\\right)=\\prod_{i=1}^{N}{{\\hat{l}}_{\\left(\\pmb{x}_i,y_i\\right)}\\left(\\pmb{w}\\right)}\n",
    "$$\n",
    "\n",
    "ដោយសារ កម្រិតសាកសមនៃទិន្នន័យ(likelihood)គឺជាតម្លៃប្រូបាប ហេតុនេះតម្លៃរបស់វាតូចខ្លាំង ដែលធ្វើឱ្យតម្លៃផលគុណកាន់តែតូចខ្លាំងពេលចំនួនទិន្នន័យមានច្រើន។ ដើម្បីបញ្ចៀសនូវបញ្ហាតម្លៃតូចពេកក្នុងការគណនាជាមួយកុំព្យូទ័រ នៅទីនេះយើងសិក្សាបរមាកម្មលើតម្លៃលោការីតរបស់វា។ ការធ្វើបែបនេះមិនប៉ះពាល់ដល់ការធ្វើបរមាកម្មឡើយ ព្រោះអនុគមន៍លោការីតជាអនុគមន៍កើនដាច់ខាត។\n",
    "\n",
    "$$\n",
    "\\log{{\\hat{L}}_\\mathcal{D}\\left(\\pmb{w}\\right)}=\\log{\\prod_{i=1}^{N}{{\\hat{l}}_{\\left(\\pmb{x}_i,y_i\\right)}\\left(\\pmb{w}\\right)}}=\\sum_{i=1}^{N}\\log{{\\hat{l}}_{\\left(\\pmb{x}_i,y_i\\right)}\\left(\\pmb{w}\\right)}\n",
    "$$\n",
    "\n",
    "ដើម្បីងាយស្រួលក្នុងការដោះស្រាយបញ្ហាបរមាកម្ម យើងប្តូរពីការធ្វើអតិបរមាកម្មលើLikelihood ទៅជាការធ្វើអប្បបរមាកម្មដោយគុណកន្សោមខាងលើ -1 ។ \n",
    "\n",
    "$$\n",
    "{\\hat{\\mathcal{L}}}_\\mathcal{D}\\left(\\pmb{w}\\right)=-\\log{{\\hat{L}}_\\mathcal{D}\\left(\\pmb{w}\\right)}=-\\sum_{i=1}^{N}\\log{{\\hat{l}}_{\\left(\\pmb{x}_i,y_i\\right)}\\left(\\pmb{w}\\right)}\n",
    "$$\n",
    "\n",
    "ក្នុងករណីយើងចង់សិក្សាបន្ថែមដោយបញ្ចូលផ្នែក Regularization (Ridge) ចូលក្នុងម៉ូឌែល Likehoodដែលត្រូវធ្វើបរមាកម្ម អាចប្តូរទៅសរសេរជាទម្រង់ខាងក្រោម។\n",
    "\n",
    "$$\n",
    "{\\hat{\\mathcal{L}}}_\\mathcal{D}\\left(\\pmb{w}\\right)=-\\log{{\\hat{L}}_\\mathcal{D}\\left(\\pmb{w}\\right)}+\\alpha\\left||\\pmb{w}|\\right|_2^2=-\\sum_{i=1}^{N}\\log{\\hat{l}_{(x_i,y_i)}w}+α\\left||w|\\right|_2^2   　(α>0)\n",
    "$$\n"
   ],
   "cell_type": "markdown",
   "metadata": {}
  },
  {
   "source": [
    "## ការដោះស្រាយតាមរយៈវិធី SGD"
   ],
   "cell_type": "markdown",
   "metadata": {}
  },
  {
   "source": [
    "ដើម្បីធ្វើអប្បបរមាកម្ម${\\hat{\\mathcal{L}}}_\\mathcal{D}\\left(\\pmb{w}\\right) $យើងនឹងប្រើប្រាស់វិធីSGDដែលបានសិក្សាក្នុងអត្ថបទមុន។\n",
    "ជាដំបូងយើងពិនិត្យលើអនុគមន៍ដេរីវេ $\\frac{\\partial}{\\partial\\pmb{w}}\\log{{\\hat{l}}_{\\left(\\pmb{x},y\\right)}\\left(\\pmb{w}\\right)} $។ \n",
    "\n",
    "$$\n",
    "\\log{{\\hat{l}}_{\\left(\\pmb{x},y\\right)}\\left(\\pmb{w}\\right)}=\\log{\\left(\\pi^y\\left(1-\\pi\\right)^{1-y}\\right)}=y\\log{\\pi}+\\left(1-y\\right)\\log{\\left(1-\\pi\\right)}\n",
    "$$\n",
    "\n",
    "$$\n",
    "\\frac{\\partial}{\\partial\\pmb{w}}\\log{{\\hat{l}}_{\\left(\\pmb{x},y\\right)}\\left(\\pmb{w}\\right)}=\\frac{y}{\\pi}\\frac{\\partial\\pi}{\\partial\\pmb{w}}+\\frac{1-y}{1-\\pi}\\times\\left(-\\frac{\\partial\\pi}{\\partial\\pmb{w}}\\right)=\\frac{y-\\pi}{\\pi\\left(1-\\pi\\right)}\\frac{\\partial\\pi}{\\partial\\pmb{w}}\n",
    "$$\n",
    "\n",
    "បន្ទាប់ពីនេះ ដើម្បីគណនា $\\frac{\\partial\\pi}{\\partial\\pmb{w}}$ យើងពិនិត្យលើដេរីវេនៃអនុគមន៍Sigmoid។\n",
    "\n",
    "$$\n",
    "\\frac{\\partial}{\\partial a}\\sigma\\left(a\\right)=\\frac{\\partial}{\\partial a}\\left\\{\\frac{1}{1+\\exp{\\left(-a\\right)}}\\right\\}=-\\frac{\\frac{\\partial}{\\partial a}\\exp{\\left(-a\\right)}}{\\left(1+\\exp{\\left(-a\\right)}\\right)^2}=\\frac{1}{1+\\exp{\\left(-a\\right)}}\\times\\frac{\\exp{\\left(-a\\right)}}{1+\\exp{\\left(-a\\right)}}\n",
    "$$\n",
    "\n",
    "$$\n",
    "\\frac{\\partial}{\\partial a}\\sigma\\left(a\\right)=\\sigma\\left(a\\right)\\left(1-\\sigma\\left(a\\right)\\right)\n",
    "\\frac{\\partial\\pi}{\\partial\\pmb{w}}=\\frac{\\partial}{\\partial\\pmb{w}}P\\left(\\hat{y}=1|\\pmb{x}\\right)=\\frac{\\partial}{\\partial\\pmb{w}}\\sigma\\left(\\pmb{x}^\\top\\pmb{w}\\right)=\\sigma\\left(\\pmb{x}^\\top\\pmb{w}\\right)\\left(1-\\sigma\\left(\\pmb{x}^\\top\\pmb{w}\\right)\\right)=\\pi\\left(1-\\pi\\right)\n",
    "$$\n",
    "\n",
    "នៅទីនេះ $a=\\pmb{x}^\\top\\pmb{w}\\ ,\\ \\frac{\\partial a}{\\partial\\pmb{w}}=\\frac{\\partial}{\\partial\\pmb{w}}\\left(\\pmb{x}^\\top\\pmb{w}\\right)=\\pmb{x}$\n",
    "ហេតុនេះ\n",
    "$$\n",
    "\\frac{\\partial}{\\partial\\pmb{w}}\\log{{\\hat{l}}_{\\left(\\pmb{x},y\\right)}\\left(\\pmb{w}\\right)}=\\frac{y-\\pi}{\\pi\\left(1-\\pi\\right)}\\frac{\\partial\\pi}{\\partial\\pmb{w}}=\\frac{y-\\pi}{\\pi\\left(1-\\pi\\right)}\\frac{\\partial\\pi}{\\partial a}\\frac{\\partial a}{\\partial\\pmb{w}}=\\frac{y-\\pi}{\\pi\\left(1-\\pi\\right)}\\pi\\left(1-\\pi\\right)\\pmb{x}\n",
    "$$\n",
    "\n",
    "$$\n",
    "\\frac{\\partial}{\\partial\\pmb{w}}\\log{{\\hat{l}}_{\\left(\\pmb{x},y\\right)}\\left(\\pmb{w}\\right)}=\\left(y-\\pi\\right)\\pmb{x}\n",
    "$$\n",
    "\n",
    "ដូចនេះ តាមរយៈវិធីSGD តម្លៃនៃប៉ារ៉ាម៉ែត្រ$ \\pmb{w} $ដែលធ្វើបរមាកម្មលើតម្លៃកម្រិតសាកសមនៃទិន្នន័យត្រូវបានគណនាដោយផ្លាស់ប្តូរតម្លៃដូចខាងក្រោម។\n",
    "\n",
    "$$\n",
    "\\pmb{w}^{\\left(t+1\\right)}=\\pmb{w}^{\\left(t\\right)}-\\eta_t\\left.\\frac{\\partial}{\\partial\\pmb{w}}\\left\\{-\\log{{\\hat{l}}_{\\left(\\pmb{x},y\\right)}\\left(\\pmb{w}\\right)}\\right\\}\\right|_{\\pmb{w}=\\pmb{w}^{\\left(\\pmb{t}\\right)}}\n",
    "$$\n",
    "$$\n",
    "\\pmb{w}^{\\left(t+1\\right)}=\\pmb{w}^{\\left(t\\right)}+\\eta_t\\left.\\frac{\\partial}{\\partial\\pmb{w}}\\log{{\\hat{l}}_{\\left(\\pmb{x},y\\right)}\\left(\\pmb{w}\\right)}\\right|_{\\pmb{w}=\\pmb{w}^{\\left(\\pmb{t}\\right)}}\n",
    "$$\n",
    "$$\n",
    "\\pmb{w}^{\\left(t+1\\right)}=\\pmb{w}^{\\left(t\\right)}+\\eta_t\\left(y-\\pi^{\\left(t\\right)}\\right)\\pmb{x}\n",
    "$$\n",
    "\n",
    "នៅទីនេះ $\\pi^{\\left(t\\right)}$ ជាតម្លៃប្រូបាបដែលគណនាដោយម៉ូឌែលជាមួយតម្លៃប៉ារ៉ាម៉ែត្រនៅដំណាក់កាល$t$ នៃការផ្លាស់ប្តូរតម្លៃប៉ារ៉ាម៉ែត្រ ពោលគឺ $\\pi^{\\left(t\\right)}=\\sigma\\left(\\pmb{x}^\\top\\pmb{w}^{\\left(t\\right)}\\right)$។$ \\eta_t$ ជាlearning-rate និង $y $ជាចំណាត់ថ្នាក់ក្រុមពិតប្រាកដនៃទិន្នន័យ$\\pmb{x}$។\n",
    "\n",
    "ក្នុងករណីប្រើRidge Regularization កន្សោមខាងលើនឹងប្រែទៅជាទម្រង់ខាងក្រោម។\n",
    "\n",
    "$$\n",
    "\\pmb{w}^{\\left(t+1\\right)}=\\left(1-\\frac{2\\alpha\\eta_t}{N}\\right)\\pmb{w}^{\\left(t\\right)}+\\eta_t\\left(y-\\pi^{\\left(t\\right)}\\right)\\pmb{x}\n",
    "$$"
   ],
   "cell_type": "markdown",
   "metadata": {}
  },
  {
   "source": [
    "## ការវាយតម្លៃ"
   ],
   "cell_type": "markdown",
   "metadata": {}
  },
  {
   "source": [
    "កាលពីសិក្សាម៉ូឌែលតម្រែតម្រង់លីនេអ៊ែរ យើងវាយតម្លៃម៉ូឌែលតាមរយៈតម្លៃកម្រិតលម្អៀង ឬ \n",
    "មេគុណR^2 ។ នៅករណីម៉ូឌែលLogisticចំពោះបញ្ហាចំណាត់ថ្នាក់ក្រុមនេះ យើងអាចវាយតម្លៃតាមរយៈតម្លៃLikelihood បាន។ ប៉ុន្តែការសិក្សាលើតម្លៃLikelihood មានការពិបាកក្នុងការបកស្រាយភ្ជាប់នឹងជីវភាពរស់នៅរបស់យើង។ហេតុនេះក្នុងបញ្ហាចំណាត់ថ្នាក់ក្រុមរង្វាស់សម្រាប់រង្វាយតម្លៃលើម៉ូឌែលត្រូវបានគណនាដូចខាងក្រោម។"
   ],
   "cell_type": "markdown",
   "metadata": {}
  },
  {
   "source": [
    "|  \t| $y=1$ \t| $y=0$ \t| Total \t|\n",
    "|-\t|-\t|-\t|-\t|\n",
    "| $\\hat{y}=1$ \t| TP<br>(true positive) \t| FP<br>(false positive) \t| ចំនួនករណីដែលត្រូវបានទស្សន៍ទាយថា$\\hat{y}=1$       \t|\n",
    "| $\\hat{y}=0$ \t| FN<br>(false negative) \t| TN<br>(true negative) \t| ចំនួនករណីដែលត្រូវបានទស្សន៍ទាយថា$\\hat{y}=0$       \t|\n",
    "| Total \t| ចំនួនទិន្នន័យ$y=1$     \t| ចំនួនទិន្នន័យ$y=0$     \t| ចំនួនទិន្នន័យសរុប      \t|"
   ],
   "cell_type": "markdown",
   "metadata": {}
  },
  {
   "source": [
    "Accuracyគឺបង្ហាញពីអត្រានៃការទស្សន៍ទាយបានត្រឹមត្រូវរបស់ម៉ូឌែលដោយមិនបែងចែកចំណាត់ថ្នាក់ក្រុមរបស់ទិន្នន័យ។អត្រានេះដូចគ្នានិងពិន្ទុដែលអ្នកឆ្លើយសំណួរបានត្រឹមត្រូវក្នុងការប្រឡងណាមួយដែរ។ \n",
    "\n",
    "Precisionគឺសំដៅដល់អត្រានៃករណីដែលពិតជានៅក្នុងក្រុម$ y=1 $មែនក្នុងចំណោមករណីដែលម៉ូឌែលបានទស្សន៍ទាយថាស្ថិតក្នុងក្រុម$y=1$។ Recallសំដៅដល់អត្រានៃករណីដែលម៉ូឌែលបានទស្សន៍ទាយថាស្ថិតក្នុងក្រុម$y=1$ ក្នុងចំណោមទិន្នន័យក្នុងក្រុម$y=1$សរុប។\n",
    "\n",
    "ជាទូទៅវាជាការលំបាកក្នុងការបង្កើតម៉ូឌែលដែលមានទាំងPrecisionនិងRecallខ្ពស់ដូចគ្នា(trade-off relation)។ហេតុនេះដើម្បីវាយតម្លៃរួមលើរង្វាស់ទាំងពីរនេះការធ្វើផលធៀបមធ្យមលើតម្លៃទាំងពីរត្រូវបានប្រើពោលគឺតម្លៃ F1-score។\n"
   ],
   "cell_type": "markdown",
   "metadata": {}
  },
  {
   "cell_type": "code",
   "execution_count": null,
   "metadata": {},
   "outputs": [],
   "source": []
  }
 ]
}